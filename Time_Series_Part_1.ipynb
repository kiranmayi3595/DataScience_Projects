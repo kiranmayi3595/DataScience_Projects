{
 "cells": [
  {
   "cell_type": "markdown",
   "metadata": {
    "id": "vn6jEGjXMC_k"
   },
   "source": [
    "# **Milestone 1**\n",
    "\n",
    "##**Context**\n",
    " \n",
    " - Why is this problem important to solve?\n",
    " 1. Global warming is a major crisis in the world and emission of greenhouse gases is the primary factor resposible for it. CO2 is one of the biggest contributors to this greenhouse effect.\n",
    " 2.Forecasting CO2 emissions by various energy sources can make an impact on decision-making in terms of choosing better methods of electricity production and thereby reduce emission.\n",
    " 3. Hence, solving this problem would help fight global warming"
   ]
  },
  {
   "cell_type": "markdown",
   "metadata": {
    "id": "f8JN5mxvLa5p"
   },
   "source": [
    "##**Objective**\n",
    "\n",
    " - What is the intended goal?\n",
    " 1. The goal is to forecast the carbon emissions value for natural gas (NNEIEUS) fuel type for the next 12 months and propose certain measures that can be adopted as policies to reduce these emissions"
   ]
  },
  {
   "cell_type": "markdown",
   "metadata": {
    "id": "5D8GGMgYTPjh"
   },
   "source": [
    "##**Key questions**\n",
    "\n",
    "- What are the key questions that need to be answered?\n",
    "\n",
    "1. What is the frequency of the data in the time series of interest?\n",
    "2. Are there any trends and/or seasonal patterns in the dataset? Or is the series stationary?\n",
    "3. Are there any missing values?\n",
    "4. Which model best fits the data and how will you evaluate its success?\n",
    "5. What policies would help reduce the emissions?"
   ]
  },
  {
   "cell_type": "markdown",
   "metadata": {
    "id": "GPo2yULhTV4M"
   },
   "source": [
    "##**Problem Formulation**:\n",
    "\n",
    "- What is it that we are trying to solve using data science?\n",
    "\n",
    "1. Using data science, we are trying to reduce green house emissions by forecasting amounts of CO2 emission due to natural gas usage for the next 12 months\n",
    "2. Having reliable forecasts would help us recommend business strategies to better combat global warming\n"
   ]
  },
  {
   "cell_type": "markdown",
   "metadata": {
    "id": "e5OSS0JaPyaB"
   },
   "source": [
    "##**Attributes Information:**\n",
    "\n",
    "This dataset is the past monthly data of Carbon dioxide emissions from electricity generation from the US Energy Information Administration categorized by fuel type such as Coal, Natural gas etc.\n",
    "\n",
    "**MSN:-** Reference to Mnemonic Series Names (U.S. Energy Information Administration Nomenclature)\n",
    "\n",
    "**YYYYMM:-** The month of the year on which these emissions were observed (from 1973 to 2016)\n",
    "\n",
    "**Value:-** Amount of CO2 Emissions in Million Metric Tons of Carbon Dioxide\n",
    "\n",
    "**Description:-**  Different category of electricity production through which carbon is emissioned:\n",
    "1. Coal Electric Power Sector CO2 Emissions\n",
    "2. Natural Gas Electric Power Sector CO2 Emissions\n",
    "3. Distillate Fuel, Including Kerosene-Type Jet Fuel, Oil Electric Power Sector CO2 Emissions\n",
    "4. Petroleum Coke Electric Power Sector CO2 Emissions\n",
    "5. Residual Fuel Oil Electric Power Sector CO2 Emissions\n",
    "6. Petroleum Electric Power Sector CO2 Emissions\n",
    "7. Geothermal Energy Electric Power Sector CO2 Emissions\n",
    "8. Non-Biomass Waste Electric Power Sector CO2 Emissions\n",
    "9. Total Energy Electric Power Sector CO2 Emissions"
   ]
  },
  {
   "cell_type": "markdown",
   "metadata": {
    "id": "eBdnPFwWat_C"
   },
   "source": [
    "## **Important Notes**\n",
    "\n",
    "- This notebook can be considered a guide to refer to while solving the problem. The evaluation will be as per the Rubric shared for each Milestone. Unlike previous courses, it does not follow the pattern of the graded questions in different sections. This notebook would give you a direction on what steps need to be taken in order to get a viable solution to the problem. Please note that this is just one way of doing this. There can be other 'creative' ways to solve the problem and we urge you to feel free and explore them as an 'optional' exercise. \n",
    "\n",
    "- In the notebook, there are markdown cells called - Observations and Insights. It is a good practice to provide observations and extract insights from the outputs.\n",
    "\n",
    "- The naming convention for different variables can vary. Please consider the code provided in this notebook as a sample code.\n",
    "\n",
    "- All the outputs in the notebook are just for reference and can be different if you follow a different approach.\n",
    "\n",
    "- There are sections called **Think About It** in the notebook that will help you get a better understanding of the reasoning behind a particular technique/step. Interested learners can take alternative approaches if they want to explore different techniques. "
   ]
  },
  {
   "cell_type": "markdown",
   "metadata": {
    "id": "ZQlycGYtR4DP"
   },
   "source": [
    "###**Loading the libraries**"
   ]
  },
  {
   "cell_type": "markdown",
   "metadata": {},
   "source": [
    "**Please note that we are downgrading the version of the statsmodels library to version 0.12.1.** Due to some variation, the latest version of the library might not give us the desired results. You can run the below code to downgrade the library and avoid any issues in the output. Once the code runs successfully, either restart the kernel or restart the Jupyter Notebook before importing the statsmodels library.It is enough to run the install statsmodel cell once.To be sure you are using the correct version of the library, you can use the code in the Version check cell of the model."
   ]
  },
  {
   "cell_type": "code",
   "execution_count": null,
   "metadata": {},
   "outputs": [],
   "source": [
    "#!pip install statsmodels==0.12.1"
   ]
  },
  {
   "cell_type": "code",
   "execution_count": null,
   "metadata": {},
   "outputs": [],
   "source": [
    "# Version check \n",
    "import statsmodels\n",
    "statsmodels.__version__"
   ]
  },
  {
   "cell_type": "code",
   "execution_count": null,
   "metadata": {
    "id": "7S3FmmQefI7T"
   },
   "outputs": [],
   "source": [
    "#Import basic libraries\n",
    "import pandas as pd\n",
    "import warnings\n",
    "import itertools\n",
    "import numpy as np\n",
    "import statsmodels.api as sm\n",
    "import matplotlib.pyplot as plt"
   ]
  },
  {
   "cell_type": "markdown",
   "metadata": {
    "id": "tJF5c_XeSuPU"
   },
   "source": [
    "###**Loading the data**"
   ]
  },
  {
   "cell_type": "code",
   "execution_count": null,
   "metadata": {
    "colab": {
     "base_uri": "https://localhost:8080/",
     "height": 206
    },
    "id": "6y-aVmMwZaIb",
    "outputId": "533e578e-12fb-4eb8-b7b0-25596449f067",
    "scrolled": true
   },
   "outputs": [],
   "source": [
    "df = pd.read_excel('MER_T12_06.xlsx')\n",
    "df.head()"
   ]
  },
  {
   "cell_type": "code",
   "execution_count": null,
   "metadata": {
    "id": "VVcvSNvJfFE0"
   },
   "outputs": [],
   "source": [
    "#to ignore warnings\n",
    "import warnings\n",
    "import itertools\n",
    "warnings.filterwarnings(\"ignore\")"
   ]
  },
  {
   "cell_type": "code",
   "execution_count": null,
   "metadata": {
    "id": "3dixG2IyfPK4"
   },
   "outputs": [],
   "source": [
    "#conversion of \"YYYYMM\" columnn into standard datetime format & making it as index\n",
    "# We are using errors=’coerce’. It will replace all non-numeric values with NaN.\n",
    "\n",
    "dateparse = lambda x: pd.to_datetime(x, format='%Y%m', errors = 'coerce')\n",
    "df = pd.read_excel('MER_T12_06.xlsx', parse_dates=['YYYYMM'], index_col='YYYYMM', date_parser=dateparse) \n",
    "df.head(15)"
   ]
  },
  {
   "cell_type": "markdown",
   "metadata": {
    "id": "498vCfjeU8Sn"
   },
   "source": [
    "**The arguments can be explained as:**\n",
    "\n",
    "- **parse_dates:** This is a key to identify the date time column. Example, the column name is ‘YYYYMM’.\n",
    "- **index_col:** This is a key that forces pandas to use the date time column as index.\n",
    "- **date_parser:** Converts an input string into datetime variable."
   ]
  },
  {
   "cell_type": "markdown",
   "metadata": {
    "id": "U2ssttk5XZsL"
   },
   "source": [
    "- Let us first identify and **drop the non datetimeindex** rows. First, let's convert the index to datetime, coerce errors, and filter NaT"
   ]
  },
  {
   "cell_type": "code",
   "execution_count": null,
   "metadata": {},
   "outputs": [],
   "source": [
    "df.count()"
   ]
  },
  {
   "cell_type": "code",
   "execution_count": null,
   "metadata": {
    "colab": {
     "base_uri": "https://localhost:8080/",
     "height": 237
    },
    "id": "FZWK9U_QfQ7d",
    "outputId": "3701c923-da24-48f2-92e3-221933b2a4e1"
   },
   "outputs": [],
   "source": [
    "\n",
    "ts = df[pd.Series(pd.to_datetime(df.index, errors='coerce')).notnull().values]\n",
    "ts.head()\n",
    "ts.describe().T"
   ]
  },
  {
   "cell_type": "markdown",
   "metadata": {},
   "source": [
    "**Observations**\n",
    "1. The observations have reduced to 4707 after filtering on NaT\n",
    "2. There are 9 unique categories in MSN and Description columns\n",
    "3. The 'Value' coulmn has missing values with a high frequency of 384. The rows with these missing values should be eliminated"
   ]
  },
  {
   "cell_type": "code",
   "execution_count": null,
   "metadata": {
    "id": "6_AmUU1NXxJ4"
   },
   "outputs": [],
   "source": [
    "#Check the datatypes of each column. Hint: Use dtypes method\n",
    "ts.dtypes"
   ]
  },
  {
   "cell_type": "code",
   "execution_count": null,
   "metadata": {
    "id": "DeFtKNxgfeJr"
   },
   "outputs": [],
   "source": [
    "#convert the emision value into numeric value\n",
    "natural=pd.DataFrame(pd.to_numeric(ts['Value'],errors='coerce')).convert_dtypes()\n",
    "ts['Value']=natural['Value']"
   ]
  },
  {
   "cell_type": "code",
   "execution_count": null,
   "metadata": {
    "id": "A1mn6m0yY5GU"
   },
   "outputs": [],
   "source": [
    "#Check total number of missing values of each column. Hint: Use isnull() method\n",
    "ts.isnull().sum()\n",
    "#ts.isna().sum()"
   ]
  },
  {
   "cell_type": "code",
   "execution_count": null,
   "metadata": {
    "id": "45Gqvi0HfhLv"
   },
   "outputs": [],
   "source": [
    "#Drop the missing value using dropna(inplace = True)\n",
    "ts.dropna(inplace = True)\n",
    "ts.describe().T"
   ]
  },
  {
   "cell_type": "markdown",
   "metadata": {},
   "source": [
    "**Observations**\n",
    "1. The datatype of 'Value' column has changed from object to numeric. After dropping the missing values, the number of observations have reduced to 4323"
   ]
  },
  {
   "cell_type": "markdown",
   "metadata": {
    "id": "cSNnVueyZkd0"
   },
   "source": [
    "###**Dataset visualization**"
   ]
  },
  {
   "cell_type": "markdown",
   "metadata": {
    "id": "HgQwEg1BZ1P9"
   },
   "source": [
    "- The dataset has 8 energy sources of CO2 emission. \n",
    "- Group the CO2 Emission dataset based on the type of energy source.\n",
    "- Visualize the trend of CO2 emission from each energy source"
   ]
  },
  {
   "cell_type": "code",
   "execution_count": null,
   "metadata": {},
   "outputs": [],
   "source": [
    "#t=ts.groupby('Description')\n",
    "coal=ts[ts['MSN']=='CLEIEUS']\n",
    "coal.plot(figsize=(16, 8))\n",
    "plt.xlabel(\"Month\")\n",
    "plt.ylabel(\"CO2 Emission value\")\n",
    "plt.title('Coal Electric Power Sector CO2 Emissions')\n",
    "plt.legend('Emission value')"
   ]
  },
  {
   "cell_type": "markdown",
   "metadata": {
    "id": "C9eXJf4YaYN7"
   },
   "source": [
    "####**Visualize the dependency of the emission in the power generation with time.**"
   ]
  },
  {
   "cell_type": "code",
   "execution_count": null,
   "metadata": {},
   "outputs": [],
   "source": [
    "import statsmodels\n",
    "import statsmodels.api as sm\n",
    "from statsmodels.tsa.stattools import coint, adfuller\n",
    "import matplotlib.pyplot as plt"
   ]
  },
  {
   "cell_type": "code",
   "execution_count": null,
   "metadata": {},
   "outputs": [],
   "source": [
    "import matplotlib.pyplot as plt\n",
    "natural=ts[ts['MSN']=='NNEIEUS']\n",
    "fig=natural.plot(figsize=(16, 8))\n",
    "plt.xlabel(\"Month\")\n",
    "plt.ylabel(\"CO2 Emission value\")\n",
    "plt.title('Natural Gas Electric Power Sector CO2 Emissions')\n",
    "plt.legend('Emission value')\n",
    "fig.figure.savefig(\"Natural gas_emissions\", bbox_inches='tight', dpi=600)"
   ]
  },
  {
   "cell_type": "code",
   "execution_count": null,
   "metadata": {},
   "outputs": [],
   "source": [
    "distillate=ts[ts['MSN']=='DKEIEUS']\n",
    "distillate.plot(figsize=(16, 8))\n",
    "plt.xlabel(\"Month\")\n",
    "plt.ylabel(\"CO2 Emission value\")\n",
    "plt.title('Distillate Fuel, Including Kerosene-Type Jet Fuel, Oil Electric Power Sector CO2 Emissions')\n",
    "plt.legend('Emission value')"
   ]
  },
  {
   "cell_type": "code",
   "execution_count": null,
   "metadata": {},
   "outputs": [],
   "source": [
    "petroleum=ts[ts['MSN']=='PCEIEUS']\n",
    "petroleum.plot(figsize=(16, 8))\n",
    "plt.xlabel(\"Month\")\n",
    "plt.ylabel(\"CO2 Emission value\")\n",
    "plt.title('Petroleum Coke Electric Power Sector CO2 Emissions')\n",
    "plt.legend('Emission value')"
   ]
  },
  {
   "cell_type": "code",
   "execution_count": null,
   "metadata": {},
   "outputs": [],
   "source": [
    "Residual=ts[ts['MSN']=='RFEIEUS']\n",
    "Residual.plot(figsize=(16, 8))\n",
    "plt.xlabel(\"Month\")\n",
    "plt.ylabel(\"CO2 Emission value\")\n",
    "plt.title('Residual Fuel Oil Electric Power Sector CO2 Emissions')\n",
    "plt.legend('Emission value')"
   ]
  },
  {
   "cell_type": "code",
   "execution_count": null,
   "metadata": {},
   "outputs": [],
   "source": [
    "pelectric=ts[ts['MSN']=='PAEIEUS']\n",
    "pelectric.plot(figsize=(16, 8))\n",
    "plt.xlabel(\"Month\")\n",
    "plt.ylabel(\"CO2 Emission value\")\n",
    "plt.title('Petroleum Electric Power Sector CO2 Emissions')\n",
    "plt.legend('Emission value')"
   ]
  },
  {
   "cell_type": "code",
   "execution_count": null,
   "metadata": {},
   "outputs": [],
   "source": [
    "geothermal=ts[ts['MSN']=='GEEIEUS']\n",
    "geothermal.plot(figsize=(16, 8))\n",
    "plt.xlabel(\"Month\")\n",
    "plt.ylabel(\"CO2 Emission value\")\n",
    "plt.title('Geothermal Energy Electric Power Sector CO2 Emissions')\n",
    "plt.legend('Emission value')"
   ]
  },
  {
   "cell_type": "code",
   "execution_count": null,
   "metadata": {},
   "outputs": [],
   "source": [
    "nonbio=ts[ts['MSN']=='NWEIEUS']\n",
    "nonbio.plot(figsize=(16, 8))\n",
    "plt.xlabel(\"Month\")\n",
    "plt.ylabel(\"CO2 Emission value\")\n",
    "plt.title('Non-Biomass Waste Electric Power Sector CO2 Emissions')\n",
    "plt.legend('Emission value')"
   ]
  },
  {
   "cell_type": "code",
   "execution_count": null,
   "metadata": {},
   "outputs": [],
   "source": [
    "total=ts[ts['MSN']=='TXEIEUS']\n",
    "total.plot(figsize=(16, 8))\n",
    "plt.xlabel(\"Month\")\n",
    "plt.ylabel(\"CO2 Emission value\")\n",
    "plt.title('Total Energy Electric Power Sector CO2 Emissions')\n",
    "plt.legend('Emission value')"
   ]
  },
  {
   "cell_type": "markdown",
   "metadata": {
    "id": "mXcfzkYJbPaG"
   },
   "source": [
    "- **Observations and Insights: _____**\n",
    "1. The times series of CO2 emissions from every energy source seems to be non-stationary\n",
    "2. The time series of CO2 emissions due to 'Geothermal Energy Electric Power Sector' and 'Non-Biomass Waste Electric Power Sector' and 'Natural Gas Electric Power Sector' appear to have seasonality\n",
    "3. The time series of 'Residual Fuel Oil Electric Power Sector CO2 Emissions' and 'Petroleum Electric Power Sector CO2 Emissions' show a very similar trend indicating interdependency\n",
    "4. The time series of 'Total Energy Electric Power Sector CO2 Emissions' seems to have a seasonality component too"
   ]
  },
  {
   "cell_type": "markdown",
   "metadata": {
    "id": "J617jj-Afd0o"
   },
   "source": [
    "####**Bar chart of CO2 Emissions per energy source**"
   ]
  },
  {
   "cell_type": "code",
   "execution_count": null,
   "metadata": {
    "id": "5rDXy9VihVGw"
   },
   "outputs": [],
   "source": [
    "CO2_per_source = ts.groupby('Description')[['Value']].sum().sort_values(by = 'Value')\n",
    "\n",
    "\n",
    "#x = CO2_per_source['Description']\n",
    "#y = np.array(CO2_per_source['Value'])\n",
    "cols = ['Geothermal Energy', 'Non-Biomass Waste', 'Petroleum Coke','Distillate Fuel ',\n",
    "        'Residual Fuel Oil', 'Petroleum', 'Natural Gas', 'Coal', 'Total Emissions']\n",
    "CO2_per_source.head()"
   ]
  },
  {
   "cell_type": "code",
   "execution_count": null,
   "metadata": {
    "id": "Ae5M3nzRhYyM"
   },
   "outputs": [],
   "source": [
    "#plt.xticks(CO2_per_source.index, cols)\n",
    "#CO2_per_source.plot(kind='bar',legend=True) \n",
    "plt.bar(CO2_per_source.index,CO2_per_source['Value'])\n",
    "#ax.plot(l,y)\n",
    "plt.set_xticks(CO2_per_source.index)\n",
    "plt.set_xticklabels(cols)\n",
    "\n",
    "plt.show()\n",
    "\n"
   ]
  },
  {
   "cell_type": "code",
   "execution_count": null,
   "metadata": {
    "id": "76GZhsE-85e7"
   },
   "outputs": [],
   "source": [
    "##Code here\n",
    "#CO2_per_source.plot(kind='bar',legend=True) \n",
    "#plt.xticks(CO2_per_source['Description'], cols)\n"
   ]
  },
  {
   "cell_type": "markdown",
   "metadata": {},
   "source": [
    "**Observations and insights**\n",
    "1. Coal electric power CO2 emissions are significantly higher than other sources or CO2 emissions and is a major contributor to Total energy Elctric power sector CO2 emissions. This is followed by Natural gas, Petroleum and residual fuel oil\n",
    "2. In the future, CO2 emissions can be significantly reduced by switching to other energy sources such as Geothermal, Non-Biomass waste, Petroleum coke, Distillate fuel etc, as they contribute to lease amount of CO2 emissions\n"
   ]
  },
  {
   "cell_type": "markdown",
   "metadata": {
    "id": "L94t7ekc-AbI"
   },
   "source": [
    "####**For developing the time series model and forcasting, use the natural gas CO2 emission from the electirical power generation**\n"
   ]
  },
  {
   "cell_type": "code",
   "execution_count": null,
   "metadata": {
    "id": "0k0w_B9Ef5cF"
   },
   "outputs": [],
   "source": [
    "mte = ts.iloc[:,1:] \n",
    "# Monthly total emissions (mte)\n",
    "ab= mte.groupby(['Description',pd.Grouper(freq=\"M\")])['Value'].sum().unstack(level = 0)\n",
    "nat =ab['Natural Gas Electric Power Sector CO2 Emissions'] # monthly total emissions (mte)\n",
    "nat.head()"
   ]
  },
  {
   "cell_type": "markdown",
   "metadata": {},
   "source": [
    "- **Potential techniques -** What different techniques should be explored?\n",
    "1. The first step is to decompose the time series (for natural gas CO2 emission) into trend, seasonality etc. \n",
    "2. The time series can be tested for stationarity using Augmented Dicky-Fuller Test. If the time series is non-stationary then we need to make it stationary by differencing the data.\n",
    "3. Then the order of estimation can be obtained through ACF and PACF plots. \n",
    "4. If the ACF plot is exponenentially decaying and PACF plot is finite, we can choose AR(p) model. If the ACF itself is finite, we can pick MA(q) model. \n",
    "5. If the time series does not follow AR or MA models, it means that it follows ARMA (p,q) or ARIMA (p,d,q) model. So to find out the optimal values of p, d and q, we need to do hyper-parameter search to find their optimal values."
   ]
  },
  {
   "cell_type": "markdown",
   "metadata": {},
   "source": [
    "- **Overall solution design -** What is the potential solution design?\n",
    "1. We would split the dataset into training and test data. We would split the data in a such a way to include the lag component. Training data: 197301-201013, test data: 201101-201607\n",
    "2. The training data should be tested for stationarity\n",
    "3. We could perform differencing of multiple orders until stationarity is obtained. THis order defines the Integration parameter (d) in ARIMA modelling\n",
    "4. ACF and PACF plots are used to identify the model's order and the potential models for fitting the data\n",
    "5. We would then try multiple modeling techniques (AR,MA,ARMA,ARIMA) with different lags and try to fit the training data and then tested with test data. This would help identify the best parameters of the model for fitting the data.\n",
    "6. After dentifying the best parameters (p, d, and q) for our data, we would train the model with the same parameters on the full data for 'Natural gas CO2 emissions' and get the forecasts for the next 12 months i.e. from 201608-201708"
   ]
  },
  {
   "cell_type": "markdown",
   "metadata": {},
   "source": [
    "- **Measures of success -** What are the key measures of success to compare different techniques?\n",
    "1. we need to select which evaluation metric we want to optimize to build the model. We would use AIC and RMSE to compare every model with the other ones"
   ]
  },
  {
   "cell_type": "markdown",
   "metadata": {
    "id": "kpMdHlFoUNz9"
   },
   "source": [
    "##**Proposed approach**\n",
    "\n",
    "- **Potential techniques -** What different techniques should be explored?\n",
    "- **Overall solution design -** What is the potential solution design?\n",
    "- **Measures of success -** What are the key measures of success to compare different techniques?"
   ]
  }
 ],
 "metadata": {
  "colab": {
   "collapsed_sections": [],
   "name": "Reference_Notebook_Milestone_1_Time_Series.ipynb",
   "provenance": []
  },
  "kernelspec": {
   "display_name": "Python 3 (ipykernel)",
   "language": "python",
   "name": "python3"
  },
  "language_info": {
   "codemirror_mode": {
    "name": "ipython",
    "version": 3
   },
   "file_extension": ".py",
   "mimetype": "text/x-python",
   "name": "python",
   "nbconvert_exporter": "python",
   "pygments_lexer": "ipython3",
   "version": "3.9.7"
  }
 },
 "nbformat": 4,
 "nbformat_minor": 1
}
